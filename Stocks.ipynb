{
  "nbformat": 4,
  "nbformat_minor": 0,
  "metadata": {
    "colab": {
      "name": "Stocks.ipynb",
      "provenance": [],
      "collapsed_sections": [],
      "authorship_tag": "ABX9TyNaJ7OFcQRkPkXrnrsa6yh8",
      "include_colab_link": true
    },
    "kernelspec": {
      "name": "python3",
      "display_name": "Python 3"
    }
  },
  "cells": [
    {
      "cell_type": "markdown",
      "metadata": {
        "id": "view-in-github",
        "colab_type": "text"
      },
      "source": [
        "<a href=\"https://colab.research.google.com/github/Gaurab17/PythonML/blob/master/Stocks.ipynb\" target=\"_parent\"><img src=\"https://colab.research.google.com/assets/colab-badge.svg\" alt=\"Open In Colab\"/></a>"
      ]
    },
    {
      "cell_type": "code",
      "metadata": {
        "id": "16Xy6f5oMP73",
        "colab_type": "code",
        "colab": {}
      },
      "source": [
        "pip install quandl\n"
      ],
      "execution_count": null,
      "outputs": []
    },
    {
      "cell_type": "code",
      "metadata": {
        "id": "jBSp19hBMZBY",
        "colab_type": "code",
        "colab": {}
      },
      "source": [
        "#install the libraries\n",
        "import quandl\n",
        "import numpy as np\n",
        "from sklearn.linear_model import LinearRegression\n",
        "from sklearn.svm import SVR\n",
        "from sklearn.model_selection import train_test_split"
      ],
      "execution_count": 2,
      "outputs": []
    },
    {
      "cell_type": "code",
      "metadata": {
        "id": "l46_E4cHM2WS",
        "colab_type": "code",
        "colab": {
          "base_uri": "https://localhost:8080/",
          "height": 170
        },
        "outputId": "792f1eb7-1062-42aa-f5f9-9ccb4a985440"
      },
      "source": [
        "#Get the stock data\n",
        "df = quandl.get(\"WIKI/FB\")\n",
        "#Load the data\n",
        "print(df.head())"
      ],
      "execution_count": 3,
      "outputs": [
        {
          "output_type": "stream",
          "text": [
            "             Open   High    Low  ...  Adj. Low  Adj. Close  Adj. Volume\n",
            "Date                             ...                                   \n",
            "2012-05-18  42.05  45.00  38.00  ...     38.00     38.2318  573576400.0\n",
            "2012-05-21  36.53  36.66  33.00  ...     33.00     34.0300  168192700.0\n",
            "2012-05-22  32.61  33.59  30.94  ...     30.94     31.0000  101786600.0\n",
            "2012-05-23  31.37  32.50  31.36  ...     31.36     32.0000   73600000.0\n",
            "2012-05-24  32.95  33.21  31.77  ...     31.77     33.0300   50237200.0\n",
            "\n",
            "[5 rows x 12 columns]\n"
          ],
          "name": "stdout"
        }
      ]
    },
    {
      "cell_type": "code",
      "metadata": {
        "id": "p-_VMlzvNL_s",
        "colab_type": "code",
        "colab": {
          "base_uri": "https://localhost:8080/",
          "height": 136
        },
        "outputId": "2e25718a-9428-44e0-b3e9-264dc52af9ad"
      },
      "source": [
        "df=df[['Adj. Low']]\n",
        "print(df.head())"
      ],
      "execution_count": 4,
      "outputs": [
        {
          "output_type": "stream",
          "text": [
            "            Adj. Low\n",
            "Date                \n",
            "2012-05-18     38.00\n",
            "2012-05-21     33.00\n",
            "2012-05-22     30.94\n",
            "2012-05-23     31.36\n",
            "2012-05-24     31.77\n"
          ],
          "name": "stdout"
        }
      ]
    },
    {
      "cell_type": "code",
      "metadata": {
        "id": "p34AX9jcNYf0",
        "colab_type": "code",
        "colab": {
          "base_uri": "https://localhost:8080/",
          "height": 136
        },
        "outputId": "215ed8a6-5559-4511-f399-8c540b73fd26"
      },
      "source": [
        "#predicting future dataset variable\n",
        "forecast = 30\n",
        "#creating another variable shifting n units up\n",
        "df['prediction'] = df[['Adj. Low']].shift(-forecast)\n",
        "print(df.tail())\n"
      ],
      "execution_count": 6,
      "outputs": [
        {
          "output_type": "stream",
          "text": [
            "            Adj. Low  prediction\n",
            "Date                            \n",
            "2018-03-21    163.30         NaN\n",
            "2018-03-22    163.72         NaN\n",
            "2018-03-23    159.02         NaN\n",
            "2018-03-26    149.02         NaN\n",
            "2018-03-27    150.75         NaN\n"
          ],
          "name": "stdout"
        }
      ]
    },
    {
      "cell_type": "code",
      "metadata": {
        "id": "xSvcMcHAOQFA",
        "colab_type": "code",
        "colab": {
          "base_uri": "https://localhost:8080/",
          "height": 136
        },
        "outputId": "fe3142e3-faa4-4e9d-94d4-1e2c92671ed5"
      },
      "source": [
        "#creating a independent data set (x)\n",
        "#convert dataset into numpy array\n",
        "X = np.array(df.drop(['prediction'],1))\n",
        "X = X[:-forecast]\n",
        "print(X)"
      ],
      "execution_count": 7,
      "outputs": [
        {
          "output_type": "stream",
          "text": [
            "[[ 38.    ]\n",
            " [ 33.    ]\n",
            " [ 30.94  ]\n",
            " ...\n",
            " [171.4815]\n",
            " [167.18  ]\n",
            " [171.84  ]]\n"
          ],
          "name": "stdout"
        }
      ]
    },
    {
      "cell_type": "code",
      "metadata": {
        "id": "7pGsMBz8OgV4",
        "colab_type": "code",
        "colab": {
          "base_uri": "https://localhost:8080/",
          "height": 34
        },
        "outputId": "cff2b0aa-a560-4f99-875a-251758bec369"
      },
      "source": [
        "###creating a dependent dataset (y)\n",
        "#convert the dataframe into numpy array\n",
        "Y = np.array(df['prediction'])\n",
        "#get values of y except the last \"n\" rows\n",
        "Y =Y[:-forecast]\n",
        "print(Y)"
      ],
      "execution_count": 8,
      "outputs": [
        {
          "output_type": "stream",
          "text": [
            "[ 30.55  30.8   31.02 ... 159.02 149.02 150.75]\n"
          ],
          "name": "stdout"
        }
      ]
    },
    {
      "cell_type": "code",
      "metadata": {
        "id": "tdp64oSqOpPv",
        "colab_type": "code",
        "colab": {}
      },
      "source": [
        "###split the data into 80% training and 20% testing\n",
        "x_train, x_test, y_train, y_test = train_test_split(X, Y, test_size=0.2)"
      ],
      "execution_count": 9,
      "outputs": []
    },
    {
      "cell_type": "code",
      "metadata": {
        "id": "E2mGGIvZO1Qf",
        "colab_type": "code",
        "colab": {
          "base_uri": "https://localhost:8080/",
          "height": 51
        },
        "outputId": "9f2b0f61-b98f-45cb-9b61-0fa1326d5863"
      },
      "source": [
        "#Create and train the support vector machine(Regressor)\n",
        "svr_rbf = SVR(kernel='rbf', C=1e3, gamma=0.1)\n",
        "svr_rbf.fit(x_train, y_train)"
      ],
      "execution_count": 10,
      "outputs": [
        {
          "output_type": "execute_result",
          "data": {
            "text/plain": [
              "SVR(C=1000.0, cache_size=200, coef0=0.0, degree=3, epsilon=0.1, gamma=0.1,\n",
              "    kernel='rbf', max_iter=-1, shrinking=True, tol=0.001, verbose=False)"
            ]
          },
          "metadata": {
            "tags": []
          },
          "execution_count": 10
        }
      ]
    },
    {
      "cell_type": "code",
      "metadata": {
        "id": "yvqZI8Y1Pl1w",
        "colab_type": "code",
        "colab": {}
      },
      "source": [
        "#Testing model: Testing represents the coefficient of the determination of the r^2 of the prediction\n",
        "#The best possible score is 1.0\n",
        "svm_confidence = svr_rbf.score(x_test, y_test)\n",
        "print(\"SVM CONFIDENCE:\" , svm_confidence)"
      ],
      "execution_count": null,
      "outputs": []
    },
    {
      "cell_type": "code",
      "metadata": {
        "id": "hQT2ktO_Q6AW",
        "colab_type": "code",
        "colab": {
          "base_uri": "https://localhost:8080/",
          "height": 34
        },
        "outputId": "8888db9d-7949-4b13-8dcf-4cb2d6b0759a"
      },
      "source": [
        "#create and test linear regression model\n",
        "lr=LinearRegression()\n",
        "#Train the model\n",
        "lr.fit(x_train, y_train)"
      ],
      "execution_count": 12,
      "outputs": [
        {
          "output_type": "execute_result",
          "data": {
            "text/plain": [
              "LinearRegression(copy_X=True, fit_intercept=True, n_jobs=None, normalize=False)"
            ]
          },
          "metadata": {
            "tags": []
          },
          "execution_count": 12
        }
      ]
    },
    {
      "cell_type": "code",
      "metadata": {
        "id": "HtM1Ud-rRD77",
        "colab_type": "code",
        "colab": {
          "base_uri": "https://localhost:8080/",
          "height": 34
        },
        "outputId": "4e414c42-3b24-43bc-a874-ab44b3c84a4a"
      },
      "source": [
        "#Testing model: Score returns the coefficient of the determination of r^2  of the prediction\n",
        "#The best possible score is 1.0\n",
        "lr_confidence=lr.score(x_test, y_test)\n",
        "print(\"LR confidence: \", lr_confidence)"
      ],
      "execution_count": 13,
      "outputs": [
        {
          "output_type": "stream",
          "text": [
            "LR confidence:  0.9778563409905502\n"
          ],
          "name": "stdout"
        }
      ]
    }
  ]
}